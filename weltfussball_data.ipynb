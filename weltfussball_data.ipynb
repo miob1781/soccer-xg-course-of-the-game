{
 "cells": [
  {
   "cell_type": "code",
   "execution_count": 53,
   "metadata": {},
   "outputs": [],
   "source": [
    "import requests\n",
    "from bs4 import BeautifulSoup\n",
    "import re\n",
    "import numpy as np\n",
    "import pandas as pd"
   ]
  },
  {
   "cell_type": "code",
   "execution_count": 54,
   "metadata": {},
   "outputs": [],
   "source": [
    "# The names of the leagues for which I want to scrape data as they are contained in the url at weltfussball.de:\n",
    "leagues = ['fra-ligue-1',\n",
    "           'eng-premier-league',\n",
    "           'esp-primera-division',\n",
    "           'ita-serie-a',\n",
    "           'bundesliga',\n",
    "           'mex-primera-division',\n",
    "           'bra-serie-a',\n",
    "           'arg-primera-division',\n",
    "           '2-bundesliga',\n",
    "           'eng-championship',\n",
    "           'por-primeira-liga',\n",
    "           'chn-super-league',\n",
    "           'aus-a-league',\n",
    "           'ita-serie-b']"
   ]
  },
  {
   "cell_type": "code",
   "execution_count": 55,
   "metadata": {},
   "outputs": [],
   "source": [
    "# Function that gets the names of the seasons as they are contained in the url depending on the league name:\n",
    "def get_season(league):\n",
    "    if league in ['chn-super-league', 'bra-serie-a']:\n",
    "        seasons = ['2017', '2018', '2019']\n",
    "    else:\n",
    "        seasons = ['2016-2017', '2017-2018', '2018-2019', '2019-2020']\n",
    "    return seasons"
   ]
  },
  {
   "cell_type": "code",
   "execution_count": 56,
   "metadata": {},
   "outputs": [],
   "source": [
    "# Function that gets the url to a list of matches depending on league and season:\n",
    "def get_path(league, season):\n",
    "    if league == 'mex-primera-division':\n",
    "        return requests.get(f'https://www.weltfussball.de/spielplan/mex-primera-division-{season}-clausura-spieltag/1/')\n",
    "    else:\n",
    "        return requests.get(f'https://www.weltfussball.de/spielplan/{league}-{season}-spieltag/1/')"
   ]
  },
  {
   "cell_type": "code",
   "execution_count": 57,
   "metadata": {},
   "outputs": [],
   "source": [
    "# Function that scrapes the results of a match:\n",
    "def get_title_data(match):\n",
    "    title_list = match.find_all('title')\n",
    "    title_list = [title.string for result in title_list for title in result]\n",
    "    title_list = [re.split('[(,]', title) for title in title_list]\n",
    "    results = []\n",
    "    for title in title_list:\n",
    "        try:\n",
    "            splitted = [title[0].split(' - ')[0],\n",
    "                        title[0].split(' - ')[1][:-5],\n",
    "                        int(title[0].split(' - ')[1][-4]),\n",
    "                        int(title[0].split(' - ')[1][-2]),\n",
    "                        title[1][:-10],\n",
    "                        title[1][-9:],\n",
    "                        int(title[2].split('.')[0].strip())]\n",
    "        except:\n",
    "            continue\n",
    "        results.append(splitted)\n",
    "    return results"
   ]
  },
  {
   "cell_type": "code",
   "execution_count": 58,
   "metadata": {},
   "outputs": [],
   "source": [
    "# Function that creates a list of leading times (lead, behind, draw) by scraping the goal minutes:\n",
    "def lead(text):\n",
    "    last_minute = 0\n",
    "    state = 'draw'\n",
    "    draw = 0\n",
    "    home = 0\n",
    "    away = 0\n",
    "    for i in range(len(text)):\n",
    "        if i == 6 and text[i] == '\\'keine\\'':\n",
    "            lead_list = [93, 0, 0]\n",
    "            return lead_list\n",
    "        elif ' : ' not in text[i]:\n",
    "            if i == max(range(len(text))):\n",
    "                if state == 'draw':\n",
    "                    draw += 92 - last_minute\n",
    "                elif state == 'home':\n",
    "                    home += 92 - last_minute\n",
    "                elif state == 'away':\n",
    "                    away += 92 - last_minute\n",
    "        else:\n",
    "            goal_home = int(text[i].split(':')[0][1])\n",
    "            goal_away = int(text[i].split(':')[1][1])\n",
    "            minute = int(text[i+2].split('.')[0].strip('\\''))\n",
    "            if state == 'draw':\n",
    "                draw += minute - last_minute\n",
    "                if minute > 45 and last_minute <= 45:\n",
    "                    draw += 1\n",
    "            elif state == 'home':\n",
    "                home += minute - last_minute\n",
    "                if minute > 45 and last_minute <= 45:\n",
    "                    home += 1\n",
    "            elif state == 'away':\n",
    "                away += minute - last_minute\n",
    "                if minute > 45 and last_minute <= 45:\n",
    "                    away += 1\n",
    "            last_minute = minute\n",
    "            if goal_home == goal_away:\n",
    "                state = 'draw'\n",
    "            elif goal_home > goal_away:\n",
    "                state = 'home'\n",
    "            elif goal_home < goal_away:\n",
    "                state = 'away'\n",
    "    lead_list = [draw, home, away]\n",
    "    return lead_list"
   ]
  },
  {
   "cell_type": "code",
   "execution_count": 59,
   "metadata": {},
   "outputs": [],
   "source": [
    "# Function that converts months from words into numbers:\n",
    "def get_month(string):\n",
    "    if string == 'Januar':\n",
    "        return '01'\n",
    "    if string == 'Februar':\n",
    "        return '02'\n",
    "    if string == 'März':\n",
    "        return '03'\n",
    "    if string == 'April':\n",
    "        return '04'\n",
    "    if string == 'Mai':\n",
    "        return '05'\n",
    "    if string == 'Juni':\n",
    "        return '06'\n",
    "    if string == 'Juli':\n",
    "        return '07'\n",
    "    if string == 'August':\n",
    "        return '08'\n",
    "    if string == 'September':\n",
    "        return '09'\n",
    "    if string == 'Oktober':\n",
    "        return '10'\n",
    "    if string == 'November':\n",
    "        return '11'\n",
    "    if string == 'Dezember':\n",
    "        return '12'"
   ]
  },
  {
   "cell_type": "code",
   "execution_count": 60,
   "metadata": {},
   "outputs": [],
   "source": [
    "# Function that converts scraped dates data into date format:\n",
    "from datetime import date\n",
    "\n",
    "def get_date(date_list):\n",
    "    dates = []\n",
    "    for d in date_list:\n",
    "        dates.append(d.split(',')[1].split())\n",
    "    dates = [date(int(d[2].strip('\\'')), int(get_month(d[1])), int(d[0].strip('[\\'.]'))) for d in dates]\n",
    "    return dates"
   ]
  },
  {
   "cell_type": "code",
   "execution_count": 61,
   "metadata": {},
   "outputs": [],
   "source": [
    "# Function that gets leading times:\n",
    "def get_time(lead_list):\n",
    "    draw = []\n",
    "    home = []\n",
    "    away = []\n",
    "    for time in lead_list:\n",
    "        draw.append(time[0])\n",
    "        home.append(time[1])\n",
    "        away.append(time[2])\n",
    "    return draw, home, away"
   ]
  },
  {
   "cell_type": "code",
   "execution_count": 62,
   "metadata": {},
   "outputs": [],
   "source": [
    "# Creates an empty data frame to which all match data will be appended:\n",
    "weltfussball = pd.DataFrame([], columns = ['home_team', 'away_team', 'home_score', 'away_score', 'league', 'season', 'Spieltag'])"
   ]
  },
  {
   "cell_type": "code",
   "execution_count": 63,
   "metadata": {
    "scrolled": true
   },
   "outputs": [],
   "source": [
    "# Scrapes data from weltfussball.de:\n",
    "for league in leagues:\n",
    "    for season in get_season(league):\n",
    "        get_seas = get_path(league, season)\n",
    "        seas = BeautifulSoup(get_seas.content, 'html.parser')\n",
    "        for text in seas.find_all('select', attrs={'name': 'runde'}):\n",
    "            for line in text.find_all('option'):\n",
    "                S_get = requests.get(f'''https://www.weltfussball.de/{line['value']}''')\n",
    "                S = BeautifulSoup(S_get.content, 'html.parser')\n",
    "                results = S.find(attrs={'class': 'standard_tabelle'})\n",
    "                a_list = results.find_all('a')\n",
    "                for a in a_list:\n",
    "                    if 'spielbericht' in a['href']:\n",
    "                        match_get = requests.get(f'''https://www.weltfussball.de{a['href']}''')\n",
    "                        match = BeautifulSoup(match_get.content, 'html.parser')\n",
    "                        for string in match.find('div', attrs={'class': 'resultat'}).stripped_strings:\n",
    "                            if '-:-' in repr(string):\n",
    "                                continue\n",
    "                            title_data = get_title_data(match)\n",
    "                            date_list = []\n",
    "                            lead_list = []\n",
    "                            string_list = []\n",
    "                            for text in match.find_all('table', attrs={'class': 'standard_tabelle'}):\n",
    "                                for string in text.stripped_strings:\n",
    "                                    string_list.append(repr(string))           \n",
    "                            date_list.append(string_list[1])\n",
    "                            lead_list.append(lead(string_list))\n",
    "                            frame = pd.DataFrame(title_data, columns = ['home_team', 'away_team', 'home_score', 'away_score', 'league', 'season', 'Spieltag'])\n",
    "                            dates = get_date(date_list)\n",
    "                            frame['date'] = dates\n",
    "                            draw, home, away = get_time(lead_list)\n",
    "                            frame['draw_time'] = draw\n",
    "                            frame['home_lead'] = home\n",
    "                            frame['away_lead'] = away\n",
    "                            weltfussball = weltfussball.append(frame, ignore_index=True)"
   ]
  },
  {
   "cell_type": "code",
   "execution_count": 66,
   "metadata": {},
   "outputs": [],
   "source": [
    "# Saving the data frame:\n",
    "weltfussball.to_csv('weltfussball_data.csv')"
   ]
  }
 ],
 "metadata": {
  "kernelspec": {
   "display_name": "Python 3",
   "language": "python",
   "name": "python3"
  },
  "language_info": {
   "codemirror_mode": {
    "name": "ipython",
    "version": 3
   },
   "file_extension": ".py",
   "mimetype": "text/x-python",
   "name": "python",
   "nbconvert_exporter": "python",
   "pygments_lexer": "ipython3",
   "version": "3.7.6"
  },
  "widgets": {
   "application/vnd.jupyter.widget-state+json": {
    "state": {},
    "version_major": 2,
    "version_minor": 0
   }
  }
 },
 "nbformat": 4,
 "nbformat_minor": 4
}
