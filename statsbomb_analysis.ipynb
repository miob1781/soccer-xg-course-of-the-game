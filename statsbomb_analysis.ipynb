{
 "cells": [
  {
   "cell_type": "code",
   "execution_count": 1,
   "metadata": {},
   "outputs": [],
   "source": [
    "import numpy as np\n",
    "import pandas as pd\n",
    "import matplotlib.pyplot as plt\n",
    "import seaborn as sns\n",
    "from statsmodels.stats.weightstats import DescrStatsW\n",
    "from statsmodels.stats.multitest import multipletests"
   ]
  },
  {
   "cell_type": "code",
   "execution_count": 2,
   "metadata": {},
   "outputs": [],
   "source": [
    "# Imports the data that are saved in \"statsbomb_data\":\n",
    "import json\n",
    "\n",
    "with open('statsbomb_data.json') as file:\n",
    "    statsbomb_data = json.load(file)"
   ]
  },
  {
   "cell_type": "code",
   "execution_count": 3,
   "metadata": {},
   "outputs": [
    {
     "name": "stdout",
     "output_type": "stream",
     "text": [
      "dict_keys(['competitions', 'matches', 'events'])\n"
     ]
    }
   ],
   "source": [
    "# Unpacks the data and re-converts dictionaries to data frames:\n",
    "print(statsbomb_data.keys())\n",
    "\n",
    "competitions = pd.DataFrame(statsbomb_data['competitions'])\n",
    "\n",
    "matches = statsbomb_data['matches']\n",
    "for key, value in matches.items():\n",
    "    matches[key] = pd.DataFrame(value)\n",
    "\n",
    "events = statsbomb_data['events']\n",
    "for key, value in events.items():\n",
    "    value['data'] = pd.DataFrame(value['data'])"
   ]
  },
  {
   "cell_type": "code",
   "execution_count": 4,
   "metadata": {},
   "outputs": [],
   "source": [
    "# Fixes lengths that are shorter than regular playtime:\n",
    "for value in events.values():\n",
    "    if value['data'].length_half1.unique()[0] < 45:\n",
    "        value['data'].length_half1 = 45\n",
    "    if value['data'].length_match.unique()[0] == 90:\n",
    "        value['data'].length_match = 91\n",
    "    if value['data'].length_match.unique()[0] < 90:\n",
    "        value['data'].length_match = 90"
   ]
  },
  {
   "cell_type": "code",
   "execution_count": 5,
   "metadata": {},
   "outputs": [],
   "source": [
    "# Function that gets the time spans during which a team leads or there is a draw:\n",
    "def min_lead(match):\n",
    "    shot_frame = match['data']\n",
    "    frame = shot_frame[(shot_frame.outcome == 'Goal') | (shot_frame.outcome == 'Own Goal')].reset_index(drop=True)\n",
    "    length_draw = 0\n",
    "    length_home_team = 0\n",
    "    length_away_team = 0\n",
    "    length_half1 = shot_frame['length_half1'].max()\n",
    "    length_match = shot_frame['length_match'].max()\n",
    "    winner = match['winner']\n",
    "    for shot_id in frame.index:\n",
    "        if shot_id == 0:\n",
    "            if frame.iloc[shot_id].half == 1:\n",
    "                length_draw += frame.iloc[0].minute\n",
    "            elif frame.iloc[shot_id].half == 2:\n",
    "                length_draw += frame.iloc[0].minute - 45 + length_half1\n",
    "        elif frame.iloc[shot_id].half == 2 and frame.iloc[shot_id - 1].half == 1:\n",
    "            if frame.iloc[shot_id].leader == home_team:\n",
    "                length_home_team += frame.iloc[shot_id].minute - 45 + length_half1 - frame.iloc[shot_id - 1].minute\n",
    "            elif frame.iloc[shot_id].leader == away_team:\n",
    "                length_away_team += frame.iloc[shot_id].minute - 45 + length_half1 - frame.iloc[shot_id - 1].minute\n",
    "            elif frame.iloc[shot_id].leader == 'draw':\n",
    "                length_draw += frame.iloc[shot_id].minute - 45 + length_half1 - frame.iloc[shot_id - 1].minute           \n",
    "        else:\n",
    "            if frame.iloc[shot_id].leader == home_team:\n",
    "                length_home_team += frame.iloc[shot_id].minute - frame.iloc[shot_id - 1].minute\n",
    "            elif frame.iloc[shot_id].leader == away_team:\n",
    "                length_away_team += frame.iloc[shot_id].minute - frame.iloc[shot_id - 1].minute\n",
    "            elif frame.iloc[shot_id].leader == 'draw':\n",
    "                length_draw += frame.iloc[shot_id].minute - frame.iloc[shot_id - 1].minute\n",
    "    if winner == home_team:\n",
    "        length_home_team += length_match - frame.minute.max()\n",
    "    elif winner == away_team:\n",
    "        length_away_team += length_match - frame.minute.max()\n",
    "    elif winner == 'draw':\n",
    "        if match['home_score'] == 0 and match['away_score'] == 0:\n",
    "            length_draw = length_match - 45 + length_half1\n",
    "        else:\n",
    "            length_draw += length_match - frame.minute.max()\n",
    "    return length_home_team, length_away_team, length_draw"
   ]
  },
  {
   "cell_type": "code",
   "execution_count": 6,
   "metadata": {},
   "outputs": [],
   "source": [
    "# Function that gets the xG values that occur while a team leads or there is a draw:\n",
    "def get_xG(match):\n",
    "    home_team_xG_home_team_lead = 0\n",
    "    home_team_xG_away_team_lead = 0\n",
    "    home_team_xG_draw = 0\n",
    "    away_team_xG_home_team_lead = 0\n",
    "    away_team_xG_away_team_lead = 0\n",
    "    away_team_xG_draw = 0\n",
    "    int_list = [int(shot_id) for shot_id in match.index]\n",
    "    \n",
    "    for shot_id in int_list:\n",
    "        if match.iloc[shot_id].outcome == 'Own Goal':\n",
    "            continue\n",
    "        elif match.iloc[shot_id].team == home_team and match.iloc[shot_id].leader == home_team:\n",
    "            home_team_xG_home_team_lead += match.iloc[shot_id].xG\n",
    "        elif match.iloc[shot_id].team == home_team and match.iloc[shot_id].leader == away_team:\n",
    "            home_team_xG_away_team_lead += match.iloc[shot_id].xG\n",
    "        elif match.iloc[shot_id].team == home_team and match.iloc[shot_id].leader == 'draw':\n",
    "            home_team_xG_draw += match.iloc[shot_id].xG\n",
    "        elif match.iloc[shot_id].team == away_team and match.iloc[shot_id].leader == home_team:\n",
    "            away_team_xG_home_team_lead += match.iloc[shot_id].xG\n",
    "        elif match.iloc[shot_id].team == away_team and match.iloc[shot_id].leader == away_team:\n",
    "            away_team_xG_away_team_lead += match.iloc[shot_id].xG\n",
    "        elif match.iloc[shot_id].team == away_team and match.iloc[shot_id].leader == 'draw':\n",
    "            away_team_xG_draw += match.iloc[shot_id].xG\n",
    "    \n",
    "    return home_team_xG_home_team_lead, home_team_xG_away_team_lead, home_team_xG_draw, away_team_xG_home_team_lead, away_team_xG_away_team_lead, away_team_xG_draw"
   ]
  },
  {
   "cell_type": "code",
   "execution_count": 7,
   "metadata": {},
   "outputs": [
    {
     "name": "stderr",
     "output_type": "stream",
     "text": [
      "C:\\Users\\Michael_2\\Miniconda3\\lib\\site-packages\\pandas\\core\\ops\\array_ops.py:253: FutureWarning: elementwise comparison failed; returning scalar instead, but in the future will perform elementwise comparison\n",
      "  res_values = method(rvalues)\n"
     ]
    }
   ],
   "source": [
    "# Creates a data frame that analyzes xG values:\n",
    "xG_list = []\n",
    "\n",
    "for key, match in events.items():\n",
    "    shots = match['data']\n",
    "    home_team = match['home_team']\n",
    "    away_team = match['away_team']\n",
    "    home_score = match['home_score']\n",
    "    away_score = match['away_score']\n",
    "    total_length = shots.length_match.max() - 45 + shots.length_half1.max()\n",
    "    xG_team1 = shots[(shots.team == home_team) & (shots.xG != 'Own Goal')].xG.sum()\n",
    "    xG_team2 = shots[(shots.team == away_team) & (shots.xG != 'Own Goal')].xG.sum()\n",
    "    lead_home_team, lead_away_team, length_draw = min_lead(match)\n",
    "    home_team_xG_home_team_lead, home_team_xG_away_team_lead, home_team_xG_draw, away_team_xG_home_team_lead, away_team_xG_away_team_lead, away_team_xG_draw = get_xG(shots)\n",
    "    xG_list.append([key, home_team, away_team, home_score, away_score, match['winner'], total_length,\n",
    "                    xG_team1, xG_team2, lead_home_team, lead_away_team, length_draw, home_team_xG_home_team_lead,\n",
    "                    home_team_xG_away_team_lead, home_team_xG_draw,\n",
    "                    away_team_xG_home_team_lead, away_team_xG_away_team_lead, away_team_xG_draw])\n",
    "\n",
    "xG_frame = pd.DataFrame(xG_list, columns = ['event_key', 'home_team', 'away_team', 'home_score', 'away_score',\n",
    "                                            'winner', 'total_length', 'xG_home_team', 'xG_away_team',\n",
    "                                            'lead_home_team', 'lead_away_team', 'length_draw',\n",
    "                                            'home_team_xG_home_team_lead', 'home_team_xG_away_team_lead',\n",
    "                                            'home_team_xG_draw', 'away_team_xG_home_team_lead',\n",
    "                                            'away_team_xG_away_team_lead', 'away_team_xG_draw'])\n",
    "\n",
    "# Determines the time a winner is leading minus the time the winner is behind:\n",
    "xG_frame['winner_lead'] = xG_frame.apply(lambda x: x.lead_home_team - x.lead_away_team if x.winner == x.home_team else (x.lead_away_team - x.lead_home_team if x.winner == x.away_team else 'no winner'), axis=1)\n",
    "\n",
    "# Gets the xG difference during a leading period:\n",
    "xG_frame['xG_diff_home_team_lead'] = xG_frame.home_team_xG_home_team_lead - xG_frame.away_team_xG_home_team_lead\n",
    "xG_frame['xG_diff_away_team_lead'] = xG_frame.home_team_xG_away_team_lead - xG_frame.away_team_xG_away_team_lead\n",
    "xG_frame['xG_diff_draw'] = xG_frame.home_team_xG_draw - xG_frame.away_team_xG_draw\n",
    "\n",
    "# Calculates the avarage xG value during a team leading period per minute and multiplies it with the total match length:\n",
    "xG_frame['xG_home_team_per_min_lead_home_team'] = xG_frame.total_length * xG_frame.home_team_xG_home_team_lead / xG_frame.lead_home_team\n",
    "xG_frame['xG_home_team_per_min_lead_away_team'] = xG_frame.total_length * xG_frame.home_team_xG_away_team_lead / xG_frame.lead_away_team\n",
    "xG_frame['xG_home_team_per_min_draw'] = xG_frame.total_length * xG_frame.home_team_xG_draw / xG_frame.length_draw\n",
    "xG_frame['xG_away_team_per_min_lead_home_team'] = xG_frame.total_length * xG_frame.away_team_xG_home_team_lead / xG_frame.lead_home_team\n",
    "xG_frame['xG_away_team_per_min_lead_away_team'] = xG_frame.total_length * xG_frame.away_team_xG_away_team_lead / xG_frame.lead_away_team\n",
    "xG_frame['xG_away_team_per_min_draw'] = xG_frame.total_length * xG_frame.away_team_xG_draw / xG_frame.length_draw\n",
    "\n",
    "# Calculates the avarage xG difference during a team leading period per minute and multiplies it with the total match length:\n",
    "xG_frame['xG_diff_per_min_home_team_lead'] = xG_frame.total_length * xG_frame.xG_diff_home_team_lead / xG_frame.lead_home_team\n",
    "xG_frame['xG_diff_per_min_away_team_lead'] = xG_frame.total_length * xG_frame.xG_diff_away_team_lead / xG_frame.lead_away_team\n",
    "xG_frame['xG_diff_per_min_draw'] = xG_frame.total_length * xG_frame.xG_diff_draw / xG_frame.length_draw\n",
    "\n",
    "# Compares the total xG value with the one relativized to team leading periods:\n",
    "xG_frame['diff_home_team_xG_home_team_lead'] = xG_frame.xG_home_team_per_min_lead_home_team - xG_frame.xG_home_team\n",
    "xG_frame['diff_home_team_xG_away_team_lead'] = xG_frame.xG_home_team_per_min_lead_away_team - xG_frame.xG_home_team\n",
    "xG_frame['diff_home_team_xG_draw'] = xG_frame.xG_home_team_per_min_draw - xG_frame.xG_home_team \n",
    "xG_frame['diff_away_team_xG_home_team_lead'] = xG_frame.xG_away_team_per_min_lead_home_team - xG_frame.xG_away_team\n",
    "xG_frame['diff_away_team_xG_away_team_lead'] = xG_frame.xG_away_team_per_min_lead_away_team - xG_frame.xG_away_team\n",
    "xG_frame['diff_away_team_xG_draw'] = xG_frame.xG_away_team_per_min_draw - xG_frame.xG_away_team"
   ]
  },
  {
   "cell_type": "code",
   "execution_count": 8,
   "metadata": {},
   "outputs": [],
   "source": [
    "# Gets the difference between the match result and the xG scores:\n",
    "def get_diff_goal_diff_xG_diff(frame):\n",
    "    diff = []\n",
    "    for i in frame.index:\n",
    "        if frame.iloc[i].winner == frame.iloc[i].home_team:\n",
    "            diff.append((frame.iloc[i].home_score - frame.iloc[i].away_score) - (frame.iloc[i].xG_home_team - frame.iloc[i].xG_away_team))\n",
    "        elif frame.iloc[i].winner == frame.iloc[i].away_team:\n",
    "            diff.append((frame.iloc[i].away_score - frame.iloc[i].home_score) - (frame.iloc[i].xG_away_team - frame.iloc[i].xG_home_team))\n",
    "        else:\n",
    "            diff.append('no winner')\n",
    "    return diff\n",
    "\n",
    "xG_frame['diff_goal_diff_xG_diff'] = get_diff_goal_diff_xG_diff(xG_frame)"
   ]
  },
  {
   "cell_type": "code",
   "execution_count": 9,
   "metadata": {},
   "outputs": [
    {
     "data": {
      "text/plain": [
       "event_key                              Orlando Pride - Sky Blue FC, NWSL 2018\n",
       "home_team                                                       Orlando Pride\n",
       "away_team                                                         Sky Blue FC\n",
       "home_score                                                                  2\n",
       "away_score                                                                  2\n",
       "winner                                                                   draw\n",
       "total_length                                                               98\n",
       "xG_home_team                                                          4.81639\n",
       "xG_away_team                                                          1.27391\n",
       "lead_home_team                                                              2\n",
       "lead_away_team                                                             14\n",
       "length_draw                                                                82\n",
       "home_team_xG_home_team_lead                                          0.296926\n",
       "home_team_xG_away_team_lead                                           1.10769\n",
       "home_team_xG_draw                                                     3.41177\n",
       "away_team_xG_home_team_lead                                          0.388773\n",
       "away_team_xG_away_team_lead                                          0.168888\n",
       "away_team_xG_draw                                                    0.716246\n",
       "winner_lead                                                         no winner\n",
       "xG_diff_home_team_lead                                             -0.0918474\n",
       "xG_diff_away_team_lead                                               0.938804\n",
       "xG_diff_draw                                                          2.69552\n",
       "xG_home_team_per_min_lead_home_team                                   14.5494\n",
       "xG_home_team_per_min_lead_away_team                                   7.75384\n",
       "xG_home_team_per_min_draw                                             4.07748\n",
       "xG_away_team_per_min_lead_home_team                                   19.0499\n",
       "xG_away_team_per_min_lead_away_team                                   1.18222\n",
       "xG_away_team_per_min_draw                                            0.856001\n",
       "xG_diff_per_min_home_team_lead                                       -4.50052\n",
       "xG_diff_per_min_away_team_lead                                        6.57163\n",
       "xG_diff_per_min_draw                                                  3.22148\n",
       "diff_home_team_xG_home_team_lead                                      9.73299\n",
       "diff_home_team_xG_away_team_lead                                      2.93746\n",
       "diff_home_team_xG_draw                                              -0.738907\n",
       "diff_away_team_xG_home_team_lead                                       17.776\n",
       "diff_away_team_xG_away_team_lead                                   -0.0916917\n",
       "diff_away_team_xG_draw                                              -0.417906\n",
       "diff_goal_diff_xG_diff                                              no winner\n",
       "Name: 660, dtype: object"
      ]
     },
     "execution_count": 9,
     "metadata": {},
     "output_type": "execute_result"
    }
   ],
   "source": [
    "# Displays one match as an example:\n",
    "xG_frame.iloc[660]"
   ]
  },
  {
   "cell_type": "code",
   "execution_count": 10,
   "metadata": {},
   "outputs": [],
   "source": [
    "# Divides the statsbomb data in matches with Barca and women matches:\n",
    "Barca = xG_frame[xG_frame.event_key.apply(lambda key: 'La Liga' in key)].reset_index()\n",
    "women = xG_frame[xG_frame.event_key.apply(lambda key: 'La Liga' not in key)].reset_index()"
   ]
  },
  {
   "cell_type": "code",
   "execution_count": 11,
   "metadata": {},
   "outputs": [],
   "source": [
    "# Convenience function that checks if a value is a float:\n",
    "def is_float(val):\n",
    "    if np.isnan(val) == False and np.isinf(val) == False:\n",
    "        return True"
   ]
  },
  {
   "cell_type": "code",
   "execution_count": 12,
   "metadata": {},
   "outputs": [],
   "source": [
    "# Function that gets the average xG per minute per match weighted by the relevant time period per match:\n",
    "def descr(lst):\n",
    "    model = DescrStatsW((lst[:,0] / lst[:,1]), weights = lst[:,1])\n",
    "    return model.mean, model.std"
   ]
  },
  {
   "cell_type": "code",
   "execution_count": 13,
   "metadata": {},
   "outputs": [],
   "source": [
    "# Function that calculates the average deviation of the xG scores per leading period:\n",
    "def compare_to_mean_xG(frame):\n",
    "    xG_diff_draw = []\n",
    "    xG_diff_leading = []\n",
    "    xG_diff_behind = []\n",
    "\n",
    "    for i in frame.index:\n",
    "        if is_float(frame.iloc[i].diff_home_team_xG_draw):\n",
    "            xG_diff_draw.append([frame.iloc[i].length_draw * frame.iloc[i].diff_home_team_xG_draw, frame.iloc[i].length_draw])\n",
    "        if is_float(frame.iloc[i].diff_away_team_xG_draw):\n",
    "            xG_diff_draw.append([frame.iloc[i].length_draw * frame.iloc[i].diff_away_team_xG_draw, frame.iloc[i].length_draw])\n",
    "        if is_float(frame.iloc[i].diff_home_team_xG_home_team_lead):\n",
    "            xG_diff_leading.append([frame.iloc[i].lead_home_team * frame.iloc[i].diff_home_team_xG_home_team_lead, frame.iloc[i].lead_home_team])\n",
    "        if is_float(frame.iloc[i].diff_away_team_xG_away_team_lead):\n",
    "            xG_diff_leading.append([frame.iloc[i].lead_away_team * frame.iloc[i].diff_away_team_xG_away_team_lead, frame.iloc[i].lead_away_team])\n",
    "        if is_float(frame.iloc[i].diff_home_team_xG_away_team_lead):\n",
    "            xG_diff_behind.append([frame.iloc[i].lead_away_team * frame.iloc[i].diff_home_team_xG_away_team_lead, frame.iloc[i].lead_away_team])\n",
    "        if is_float(frame.iloc[i].diff_away_team_xG_home_team_lead):\n",
    "            xG_diff_behind.append([frame.iloc[i].lead_home_team * frame.iloc[i].diff_away_team_xG_home_team_lead, frame.iloc[i].lead_home_team])\n",
    "\n",
    "    xG_diff_draw = np.array(xG_diff_draw)\n",
    "    xG_diff_draw[:,1] /= 2 #don't double-count the draw length!\n",
    "    xG_diff_leading = np.array(xG_diff_leading)\n",
    "    xG_diff_behind = np.array(xG_diff_behind)\n",
    "    \n",
    "    xG_dict = {}\n",
    "    \n",
    "    xG_dict['xG_diff_draw'] = descr(xG_diff_draw)\n",
    "    xG_dict['xG_diff_leading'] = descr(xG_diff_leading)\n",
    "    xG_dict['xG_diff_behind'] = descr(xG_diff_behind)\n",
    "  \n",
    "    return xG_dict"
   ]
  },
  {
   "cell_type": "code",
   "execution_count": 14,
   "metadata": {},
   "outputs": [
    {
     "name": "stdout",
     "output_type": "stream",
     "text": [
      "{'xG_diff_draw': (0.030341007683677618, 2.397999773608237), 'xG_diff_leading': (-0.17796297980758974, 0.691931592794871), 'xG_diff_behind': (0.15191492691636335, 0.9091949499543778)}\n",
      "{'xG_diff_draw': (-0.025849956356006065, 2.4293497474383385), 'xG_diff_leading': (-0.130131692299148, 0.7006974899272561), 'xG_diff_behind': (0.14455622588654687, 0.9169181887850116)}\n",
      "{'xG_diff_draw': (0.13770089677556946, 2.3331727847323633), 'xG_diff_leading': (-0.2726821950708398, 0.664147978889436), 'xG_diff_behind': (0.1664871958894299, 0.893525050447789)}\n"
     ]
    }
   ],
   "source": [
    "# Applying the functions:\n",
    "print(compare_to_mean_xG(xG_frame))\n",
    "print(compare_to_mean_xG(Barca))\n",
    "print(compare_to_mean_xG(women))\n",
    "\n",
    "# When teams are behind, they have a greater xG score per match than average (0.15),\n",
    "# and also a smaller xG score per match than average (-0.18).\n",
    "# This shows that, as a result of increased efforts to score a goal, their score goes up,\n",
    "# whereas teams that are behind reduce their efforts.\n",
    "# The effect is not large, but bigger with women than the Barca frame.\n",
    "# It is possible that the unique dominance of Barcelona underestimates the effect."
   ]
  },
  {
   "cell_type": "code",
   "execution_count": 15,
   "metadata": {},
   "outputs": [],
   "source": [
    "# Function that determines the significance of the differences to the mean:\n",
    "def ttest_compare_to_mean(frame):\n",
    "    matches = []\n",
    "    \n",
    "    for i in frame.index:\n",
    "        xG_diff_draw_home_team = []\n",
    "        xG_diff_draw_away_team = []\n",
    "        xG_diff_leading_home_team = []\n",
    "        xG_diff_leading_away_team = []\n",
    "        xG_diff_behind_home_team = []\n",
    "        xG_diff_behind_away_team = []\n",
    "    \n",
    "        if is_float(frame.iloc[i].diff_home_team_xG_draw):\n",
    "            xG_diff_draw_home_team.append([frame.iloc[i].length_draw * frame.iloc[i].diff_home_team_xG_draw, frame.iloc[i].length_draw])\n",
    "        if is_float(frame.iloc[i].diff_away_team_xG_draw):\n",
    "            xG_diff_draw_away_team.append([frame.iloc[i].length_draw * frame.iloc[i].diff_away_team_xG_draw, frame.iloc[i].length_draw])\n",
    "        if is_float(frame.iloc[i].diff_home_team_xG_home_team_lead):\n",
    "            xG_diff_leading_home_team.append([frame.iloc[i].lead_home_team * frame.iloc[i].diff_home_team_xG_home_team_lead, frame.iloc[i].lead_home_team])\n",
    "        if is_float(frame.iloc[i].diff_away_team_xG_away_team_lead):\n",
    "            xG_diff_leading_away_team.append([frame.iloc[i].lead_away_team * frame.iloc[i].diff_away_team_xG_away_team_lead, frame.iloc[i].lead_away_team])\n",
    "        if is_float(frame.iloc[i].diff_home_team_xG_away_team_lead):\n",
    "            xG_diff_behind_home_team.append([frame.iloc[i].lead_away_team * frame.iloc[i].diff_home_team_xG_away_team_lead, frame.iloc[i].lead_away_team])\n",
    "        if is_float(frame.iloc[i].diff_away_team_xG_home_team_lead):\n",
    "            xG_diff_behind_away_team.append([frame.iloc[i].lead_home_team * frame.iloc[i].diff_away_team_xG_home_team_lead, frame.iloc[i].lead_home_team])\n",
    "        matches.append([xG_diff_draw_home_team, xG_diff_leading_home_team, xG_diff_behind_home_team])\n",
    "        matches.append([xG_diff_draw_away_team, xG_diff_leading_away_team, xG_diff_behind_away_team])\n",
    "\n",
    "    xG_diff_draw_leading = []\n",
    "    xG_diff_draw_behind = []\n",
    "    xG_diff_leading_behind = []\n",
    "    \n",
    "    for i in range(len(matches)):\n",
    "        try:\n",
    "            xG_diff_draw_leading.append([matches[i][0][0][0] - matches[i][1][0][0], matches[i][0][0][1] * matches[i][1][0][1]])\n",
    "        except:\n",
    "            continue\n",
    "        try:\n",
    "            xG_diff_draw_behind.append([matches[i][0][0][0] - matches[i][2][0][0], matches[i][0][0][1] * matches[i][2][0][1]])\n",
    "        except:\n",
    "            continue\n",
    "        try:\n",
    "            xG_diff_leading_behind.append([matches[i][1][0][0] - matches[i][2][0][0], matches[i][1][0][1] * matches[i][2][0][1]])\n",
    "        except:\n",
    "            continue\n",
    "        \n",
    "    xG_diff_draw_leading = np.array(xG_diff_draw_leading)\n",
    "    xG_diff_draw_behind = np.array(xG_diff_draw_behind)\n",
    "    xG_diff_leading_behind = np.array(xG_diff_leading_behind)    \n",
    "\n",
    "    pval_draw_leading = DescrStatsW(xG_diff_draw_leading[:,0], weights=xG_diff_draw_leading[:,1]).ttest_mean(0)[1]\n",
    "    pval_draw_behind = DescrStatsW(xG_diff_draw_behind[:,0], weights=xG_diff_draw_behind[:,1]).ttest_mean(0)[1]\n",
    "    pval_behind_leading = DescrStatsW(xG_diff_leading_behind[:,0], weights=xG_diff_leading_behind[:,1]).ttest_mean(0)[1]\n",
    "\n",
    "    return [pval_draw_leading, pval_draw_behind, pval_behind_leading], multipletests([pval_draw_leading, pval_draw_behind, pval_behind_leading], alpha=0.05, method='holm-sidak')"
   ]
  },
  {
   "cell_type": "code",
   "execution_count": 16,
   "metadata": {},
   "outputs": [
    {
     "name": "stdout",
     "output_type": "stream",
     "text": [
      "([0.0, 1.0452627637487185e-109, 0.0], (array([ True,  True,  True]), array([0., 0., 0.]), 0.016952427508441503, 0.016666666666666666))\n",
      "([0.0, 1.3153555754504763e-23, 0.0], (array([ True,  True,  True]), array([0., 0., 0.]), 0.016952427508441503, 0.016666666666666666))\n",
      "([0.0, 0.0, 0.0], (array([ True,  True,  True]), array([0., 0., 0.]), 0.016952427508441503, 0.016666666666666666))\n"
     ]
    }
   ],
   "source": [
    "print(ttest_compare_to_mean(xG_frame))\n",
    "print(ttest_compare_to_mean(Barca))\n",
    "print(ttest_compare_to_mean(women))\n",
    "\n",
    "# This shows that the changes of xG values that occur when the leader changes are extremely significant."
   ]
  },
  {
   "cell_type": "code",
   "execution_count": 17,
   "metadata": {},
   "outputs": [],
   "source": [
    "# Calculates the average xG scores of the winner:\n",
    "def win_xG(frame):\n",
    "    list_xG_diff_draw = []\n",
    "    list_xG_diff_winner_leading = []\n",
    "    list_xG_diff_winner_behind = []\n",
    "    list_xG_for_winner_draw = []\n",
    "    list_xG_for_winner_leading = []\n",
    "    list_xG_for_winner_behind = []\n",
    "    list_xG_against_winner_draw = []\n",
    "    list_xG_against_winner_leading = []\n",
    "    list_xG_against_winner_behind = []\n",
    "\n",
    "    for i in frame.index:\n",
    "        if np.isnan(frame.iloc[i].xG_diff_per_min_home_team_lead) == False and np.isinf(frame.iloc[i].xG_diff_per_min_home_team_lead) == False:\n",
    "            if frame.iloc[i].winner == frame.iloc[i].home_team:\n",
    "                list_xG_diff_winner_leading.append([frame.iloc[i].lead_home_team * frame.iloc[i].xG_diff_per_min_home_team_lead, frame.iloc[i].lead_home_team])\n",
    "                list_xG_for_winner_leading.append([frame.iloc[i].lead_home_team * frame.iloc[i].xG_home_team_per_min_lead_home_team, frame.iloc[i].lead_home_team])\n",
    "                list_xG_against_winner_leading.append([frame.iloc[i].lead_home_team * frame.iloc[i].xG_away_team_per_min_lead_home_team, frame.iloc[i].lead_home_team])\n",
    "            elif frame.iloc[i].winner == frame.iloc[i].away_team:\n",
    "                list_xG_diff_winner_behind.append([-(frame.iloc[i].lead_home_team * frame.iloc[i].xG_diff_per_min_home_team_lead), frame.iloc[i].lead_home_team])\n",
    "                list_xG_for_winner_behind.append([frame.iloc[i].lead_home_team * frame.iloc[i].xG_away_team_per_min_lead_home_team, frame.iloc[i].lead_home_team])\n",
    "                list_xG_against_winner_behind.append([frame.iloc[i].lead_home_team * frame.iloc[i].xG_home_team_per_min_lead_home_team, frame.iloc[i].lead_home_team])\n",
    "        if np.isnan(frame.iloc[i].xG_diff_per_min_away_team_lead) == False and np.isinf(frame.iloc[i].xG_diff_per_min_away_team_lead) == False:\n",
    "            if frame.iloc[i].winner == frame.iloc[i].away_team:\n",
    "                list_xG_diff_winner_leading.append([frame.iloc[i].lead_away_team * (-frame.iloc[i].xG_diff_per_min_away_team_lead), frame.iloc[i].lead_away_team])\n",
    "                list_xG_for_winner_leading.append([frame.iloc[i].lead_away_team * frame.iloc[i].xG_away_team_per_min_lead_away_team, frame.iloc[i].lead_away_team])\n",
    "                list_xG_against_winner_leading.append([frame.iloc[i].lead_away_team * frame.iloc[i].xG_home_team_per_min_lead_away_team, frame.iloc[i].lead_away_team])\n",
    "            elif frame.iloc[i].winner == frame.iloc[i].home_team:\n",
    "                list_xG_diff_winner_behind.append([frame.iloc[i].lead_away_team * frame.iloc[i].xG_diff_per_min_away_team_lead, frame.iloc[i].lead_away_team])\n",
    "                list_xG_for_winner_behind.append([frame.iloc[i].lead_away_team * frame.iloc[i].xG_home_team_per_min_lead_away_team, frame.iloc[i].lead_away_team])\n",
    "                list_xG_against_winner_behind.append([frame.iloc[i].lead_away_team * frame.iloc[i].xG_away_team_per_min_lead_away_team, frame.iloc[i].lead_away_team])\n",
    "        if np.isnan(frame.iloc[i].xG_diff_per_min_draw) == False and np.isinf(frame.iloc[i].xG_diff_per_min_draw) == False:\n",
    "            if frame.iloc[i].winner == frame.iloc[i].home_team:\n",
    "                list_xG_diff_draw.append([frame.iloc[i].length_draw * frame.iloc[i].xG_diff_per_min_draw, frame.iloc[i].length_draw])\n",
    "                list_xG_for_winner_draw.append([frame.iloc[i].length_draw * frame.iloc[i].xG_home_team_per_min_draw, frame.iloc[i].length_draw])\n",
    "                list_xG_against_winner_draw.append([frame.iloc[i].length_draw * frame.iloc[i].xG_away_team_per_min_draw, frame.iloc[i].length_draw])\n",
    "            elif frame.iloc[i].winner == frame.iloc[i].away_team:\n",
    "                list_xG_diff_draw.append([frame.iloc[i].length_draw * (-frame.iloc[i].xG_diff_per_min_draw), frame.iloc[i].length_draw])\n",
    "                list_xG_for_winner_draw.append([frame.iloc[i].length_draw * frame.iloc[i].xG_away_team_per_min_draw, frame.iloc[i].length_draw])\n",
    "                list_xG_against_winner_draw.append([frame.iloc[i].length_draw * frame.iloc[i].xG_home_team_per_min_draw, frame.iloc[i].length_draw])\n",
    "\n",
    "    list_xG_diff_draw = np.array(list_xG_diff_draw)\n",
    "    list_xG_diff_winner_leading = np.array(list_xG_diff_winner_leading)\n",
    "    list_xG_diff_winner_behind = np.array(list_xG_diff_winner_behind)\n",
    "    list_xG_for_winner_draw = np.array(list_xG_for_winner_draw)\n",
    "    list_xG_for_winner_leading = np.array(list_xG_for_winner_leading)\n",
    "    list_xG_for_winner_behind = np.array(list_xG_for_winner_behind)\n",
    "    list_xG_against_winner_draw = np.array(list_xG_against_winner_draw)\n",
    "    list_xG_against_winner_leading = np.array(list_xG_against_winner_leading)\n",
    "    list_xG_against_winner_behind = np.array(list_xG_against_winner_behind)\n",
    "\n",
    "    xG_dict = {}\n",
    "    \n",
    "    xG_dict['xG_diff_draw'] = descr(list_xG_diff_draw)\n",
    "    xG_dict['xG_diff_winner_leading'] = descr(list_xG_diff_winner_leading)\n",
    "    xG_dict['xG_diff_winner_behind'] = descr(list_xG_diff_winner_behind)\n",
    "    xG_dict['xG_for_winner_draw'] = descr(list_xG_for_winner_draw)\n",
    "    xG_dict['xG_for_winner_leading'] = descr(list_xG_for_winner_leading)\n",
    "    xG_dict['xG_for_winner_behind'] = descr(list_xG_for_winner_behind)\n",
    "    xG_dict['xG_against_winner_draw'] = descr(list_xG_against_winner_draw)\n",
    "    xG_dict['xG_against_winner_leading'] = descr(list_xG_against_winner_leading)\n",
    "    xG_dict['xG_against_winner_behind'] = descr(list_xG_against_winner_behind)\n",
    "    \n",
    "    return xG_dict"
   ]
  },
  {
   "cell_type": "code",
   "execution_count": 18,
   "metadata": {},
   "outputs": [
    {
     "name": "stdout",
     "output_type": "stream",
     "text": [
      "{'xG_diff_draw': (1.54445740810357, 2.2099870567785778), 'xG_diff_winner_leading': (1.2544537229926602, 1.663240417158797), 'xG_diff_winner_behind': (1.849998976631425, 3.2360496693589313), 'xG_for_winner_draw': (2.305745929518946, 2.0154517343400116), 'xG_for_winner_leading': (2.1659277563368287, 1.3371496329692498), 'xG_for_winner_behind': (2.7241499399366904, 2.9922733027694224), 'xG_against_winner_draw': (0.7612885214153762, 0.7697383501356644), 'xG_against_winner_leading': (0.9114740333441685, 0.8043577241003373), 'xG_against_winner_behind': (0.8741509633052654, 0.9494661170734714)}\n",
      "{'xG_diff_draw': (1.633469020858893, 2.263230306072686), 'xG_diff_winner_leading': (1.4615526813538744, 1.6313110417146226), 'xG_diff_winner_behind': (1.8578700936860235, 3.3909240433774483), 'xG_for_winner_draw': (2.415008969626206, 2.049395277211494), 'xG_for_winner_leading': (2.37871704767205, 1.3432070441148594), 'xG_for_winner_behind': (2.7181240190551175, 3.2227475526416054), 'xG_against_winner_draw': (0.7815399487673126, 0.7715646877259764), 'xG_against_winner_leading': (0.9171643663181756, 0.7507700596698179), 'xG_against_winner_behind': (0.8602539253690945, 0.8593852452490417)}\n",
      "{'xG_diff_draw': (1.3812141989877404, 2.099064930462663), 'xG_diff_winner_leading': (0.8464159208656272, 1.650038372831817), 'xG_diff_winner_behind': (1.8361950843515535, 2.9447869331153353), 'xG_for_winner_draw': (2.1053625328728276, 1.9357058945356105), 'xG_for_winner_leading': (1.746678546009301, 1.2210644497545693), 'xG_for_winner_behind': (2.7347178380074797, 2.538003762666075), 'xG_against_winner_draw': (0.724148333885087, 0.7649857006939461), 'xG_against_winner_leading': (0.9002626251436735, 0.9005522671896901), 'xG_against_winner_behind': (0.8985227536559264, 1.0891798342528343)}\n"
     ]
    }
   ],
   "source": [
    "# Applying win_xG\n",
    "print(win_xG(xG_frame))\n",
    "print(win_xG(Barca))\n",
    "print(win_xG(women))\n",
    "\n",
    "# The winner (in this dataset it's often Barcelona) has a 1.5 xG lead during a draw.\n",
    "# This value goes up to 1.8 when the ultimate winner is behind, but decreases to 1.3 when the winner is leading.\n",
    "# This confirms the prior that a leading team admits for a lower xG diff because it focuses on defense,\n",
    "# but has a higher score when it puts more efforts in offense.\n",
    "# The winning team has a higher score for them when behind (2.7) than during a draw (2.3) or leading (2.2).\n",
    "# The score against is highest when leading or behind (0.9), but a bit lower while there is a draw (0.8).\n",
    "# However, the data is heavily influenced by Barcelona and their at times unmatched dominance."
   ]
  },
  {
   "cell_type": "code",
   "execution_count": 19,
   "metadata": {
    "scrolled": true
   },
   "outputs": [],
   "source": [
    "# The same as above, but for the main leader:\n",
    "def xG_lead(frame):\n",
    "    list_xG_diff_draw = []\n",
    "    list_xG_diff_leader_leading = []\n",
    "    list_xG_diff_leader_behind = []\n",
    "    list_xG_for_leader_draw = []\n",
    "    list_xG_for_leader_leading = []\n",
    "    list_xG_for_leader_behind = []\n",
    "    list_xG_against_leader_draw = []\n",
    "    list_xG_against_leader_leading = []\n",
    "    list_xG_against_leader_behind = [] \n",
    "    \n",
    "    for i in frame.index:\n",
    "        if frame.iloc[i].home_score == 0 and frame.iloc[i].away_score == 0:\n",
    "            continue\n",
    "        if is_float(frame.iloc[i].xG_diff_per_min_home_team_lead):\n",
    "            if frame.iloc[i].lead_home_team >= frame.iloc[i].lead_away_team or np.isnan(frame.iloc[i].lead_away_team):\n",
    "                list_xG_diff_leader_leading.append([frame.iloc[i].lead_home_team * frame.iloc[i].xG_diff_per_min_home_team_lead, frame.iloc[i].lead_home_team])\n",
    "                list_xG_for_leader_leading.append([frame.iloc[i].lead_home_team * frame.iloc[i].xG_home_team_per_min_lead_home_team, frame.iloc[i].lead_home_team])\n",
    "                list_xG_against_leader_leading.append([frame.iloc[i].lead_home_team * frame.iloc[i].xG_away_team_per_min_lead_home_team, frame.iloc[i].lead_home_team])\n",
    "            elif frame.iloc[i].lead_home_team < frame.iloc[i].lead_away_team or np.isnan(frame.iloc[i].lead_home_team):\n",
    "                list_xG_diff_leader_behind.append([-(frame.iloc[i].lead_home_team * frame.iloc[i].xG_diff_per_min_home_team_lead), frame.iloc[i].lead_home_team])\n",
    "                list_xG_for_leader_behind.append([frame.iloc[i].lead_home_team * frame.iloc[i].xG_away_team_per_min_lead_home_team, frame.iloc[i].lead_home_team])\n",
    "                list_xG_against_leader_behind.append([frame.iloc[i].lead_home_team * frame.iloc[i].xG_home_team_per_min_lead_home_team, frame.iloc[i].lead_home_team])\n",
    "        if is_float(frame.iloc[i].xG_diff_per_min_away_team_lead):\n",
    "            if frame.iloc[i].lead_away_team >= frame.iloc[i].lead_home_team or np.isnan(frame.iloc[i].lead_home_team):\n",
    "                list_xG_diff_leader_leading.append([frame.iloc[i].lead_away_team * (-frame.iloc[i].xG_diff_per_min_away_team_lead), frame.iloc[i].lead_away_team])\n",
    "                list_xG_for_leader_leading.append([frame.iloc[i].lead_away_team * frame.iloc[i].xG_away_team_per_min_lead_away_team, frame.iloc[i].lead_away_team])\n",
    "                list_xG_against_leader_leading.append([frame.iloc[i].lead_away_team * frame.iloc[i].xG_home_team_per_min_lead_away_team, frame.iloc[i].lead_away_team])\n",
    "            elif frame.iloc[i].lead_away_team < frame.iloc[i].lead_home_team or np.isnan(frame.iloc[i].lead_away_team):\n",
    "                list_xG_diff_leader_behind.append([frame.iloc[i].lead_away_team * frame.iloc[i].xG_diff_per_min_away_team_lead, frame.iloc[i].lead_away_team])\n",
    "                list_xG_for_leader_behind.append([frame.iloc[i].lead_away_team * frame.iloc[i].xG_home_team_per_min_lead_away_team, frame.iloc[i].lead_away_team])\n",
    "                list_xG_against_leader_behind.append([frame.iloc[i].lead_away_team * frame.iloc[i].xG_away_team_per_min_lead_away_team, frame.iloc[i].lead_away_team])\n",
    "        if is_float(frame.iloc[i].xG_diff_per_min_draw):\n",
    "            if frame.iloc[i].lead_home_team >= frame.iloc[i].lead_away_team or np.isnan(frame.iloc[i].lead_away_team):\n",
    "                list_xG_diff_draw.append([frame.iloc[i].length_draw * frame.iloc[i].xG_diff_per_min_draw, frame.iloc[i].length_draw])\n",
    "                list_xG_for_leader_draw.append([frame.iloc[i].length_draw * frame.iloc[i].xG_home_team_per_min_draw, frame.iloc[i].length_draw])\n",
    "                list_xG_against_leader_draw.append([frame.iloc[i].length_draw * frame.iloc[i].xG_away_team_per_min_draw, frame.iloc[i].length_draw])\n",
    "            elif frame.iloc[i].lead_home_team < frame.iloc[i].lead_away_team or np.isnan(frame.iloc[i].lead_home_team):\n",
    "                list_xG_diff_draw.append([frame.iloc[i].length_draw * (-frame.iloc[i].xG_diff_per_min_draw), frame.iloc[i].length_draw])\n",
    "                list_xG_for_leader_draw.append([frame.iloc[i].length_draw * frame.iloc[i].xG_away_team_per_min_draw, frame.iloc[i].length_draw])\n",
    "                list_xG_against_leader_draw.append([frame.iloc[i].length_draw * frame.iloc[i].xG_home_team_per_min_draw, frame.iloc[i].length_draw])\n",
    "\n",
    "    list_xG_diff_draw = np.array(list_xG_diff_draw)\n",
    "    list_xG_diff_leader_leading = np.array(list_xG_diff_leader_leading)\n",
    "    list_xG_diff_leader_behind = np.array(list_xG_diff_leader_behind)\n",
    "    list_xG_for_leader_draw = np.array(list_xG_for_leader_draw)\n",
    "    list_xG_for_leader_leading = np.array(list_xG_for_leader_leading)\n",
    "    list_xG_for_leader_behind = np.array(list_xG_for_leader_behind)\n",
    "    list_xG_against_leader_draw = np.array(list_xG_against_leader_draw)\n",
    "    list_xG_against_leader_leading = np.array(list_xG_against_leader_leading)\n",
    "    list_xG_against_leader_behind = np.array(list_xG_against_leader_behind)\n",
    "\n",
    "    xG_dict = {}\n",
    "    \n",
    "    xG_dict['xG_diff_draw'] = descr(list_xG_diff_draw)\n",
    "    xG_dict['xG_diff_leader_leading'] = descr(list_xG_diff_leader_leading)\n",
    "    xG_dict['xG_diff_leader_behind'] = descr(list_xG_diff_leader_behind)\n",
    "    xG_dict['xG_for_leader_draw'] = descr(list_xG_for_leader_draw)\n",
    "    xG_dict['xG_for_leader_leading'] = descr(list_xG_for_leader_leading)\n",
    "    xG_dict['xG_for_leader_behind'] = descr(list_xG_for_leader_behind)\n",
    "    xG_dict['xG_against_leader_draw'] = descr(list_xG_against_leader_draw)\n",
    "    xG_dict['xG_against_leader_leading'] = descr(list_xG_against_leader_leading)\n",
    "    xG_dict['xG_against_leader_behind'] = descr(list_xG_against_leader_behind)\n",
    "    \n",
    "    return xG_dict"
   ]
  },
  {
   "cell_type": "code",
   "execution_count": 20,
   "metadata": {
    "scrolled": true
   },
   "outputs": [
    {
     "name": "stdout",
     "output_type": "stream",
     "text": [
      "{'xG_diff_draw': (1.2286169418365307, 2.170078939985695), 'xG_diff_leader_leading': (0.9761106265908214, 1.8679910590631807), 'xG_diff_leader_behind': (1.6167471205652741, 4.190977747208423), 'xG_for_leader_draw': (2.0903270781970615, 1.8737875077913295), 'xG_for_leader_leading': (2.050615610116756, 1.3415447538868444), 'xG_for_leader_behind': (2.553194871310705, 3.8449026300946976), 'xG_against_leader_draw': (0.861710136360531, 0.8890172638440532), 'xG_against_leader_leading': (1.074504983525934, 1.0325934541540547), 'xG_against_leader_behind': (0.9364477507454307, 1.4359025795158473)}\n"
     ]
    }
   ],
   "source": [
    "# Applying xG_lead:\n",
    "lead_xG_frame = xG_lead(xG_frame)\n",
    "print(lead_xG_frame)\n",
    "\n",
    "# There is not a general difference to above, where the sam values have been calculated for the winner."
   ]
  },
  {
   "cell_type": "code",
   "execution_count": 21,
   "metadata": {},
   "outputs": [
    {
     "name": "stdout",
     "output_type": "stream",
     "text": [
      "AxesSubplot(0.125,0.125;0.775x0.755)\n"
     ]
    },
    {
     "data": {
      "image/png": "[encoded data removed]",
      "text/plain": [
       "<Figure size 432x288 with 1 Axes>"
      ]
     },
     "metadata": {
      "needs_background": "light"
     },
     "output_type": "display_data"
    }
   ],
   "source": [
    "# Creating a bar plot from lead_xG_frame:\n",
    "to_plot = pd.DataFrame({'matches': [value[0] for value in lead_xG_frame.values()],\n",
    "                       'xG for team adjusted for match length': ['all', 'all', 'all', 'Barca', 'Barca', 'Barca', 'women', 'women', 'women'],\n",
    "                       'scoreline': ['draw', 'lead', 'behind', 'draw', 'lead', 'behind', 'draw', 'lead', 'behind']})\n",
    "\n",
    "print(sns.barplot(x='matches', y='xG for team adjusted for match length', hue='scoreline', data=to_plot))"
   ]
  },
  {
   "cell_type": "code",
   "execution_count": 22,
   "metadata": {},
   "outputs": [
    {
     "data": {
      "text/plain": [
       "{'xG_diff_draw': (1.3200907758089147, 2.159296167639377),\n",
       " 'xG_diff_leader_leading': (1.1529784363096582, 1.8669552426989366),\n",
       " 'xG_diff_leader_behind': (1.384757582069307, 4.381848640678859),\n",
       " 'xG_for_leader_draw': (2.163600966450365, 1.8815501164053003),\n",
       " 'xG_for_leader_leading': (2.233721360113153, 1.3714274304396359),\n",
       " 'xG_for_leader_behind': (2.513863964770297, 4.02598013624574),\n",
       " 'xG_against_leader_draw': (0.8435101906414503, 0.8562236205329004),\n",
       " 'xG_against_leader_leading': (1.0807429238034947, 0.9887386793134165),\n",
       " 'xG_against_leader_behind': (1.12910638270099, 1.3238738132460275)}"
      ]
     },
     "execution_count": 22,
     "metadata": {},
     "output_type": "execute_result"
    }
   ],
   "source": [
    "xG_lead(Barca)"
   ]
  },
  {
   "cell_type": "code",
   "execution_count": 23,
   "metadata": {},
   "outputs": [
    {
     "data": {
      "text/plain": [
       "{'xG_diff_draw': (1.0477501163388145, 2.1799744522654834),\n",
       " 'xG_diff_leader_leading': (0.6255267693748194, 1.81992940900729),\n",
       " 'xG_diff_leader_behind': (2.065615767846743, 3.7540180666872116),\n",
       " 'xG_for_leader_draw': (1.945446132633433, 1.8498199490379692),\n",
       " 'xG_for_leader_leading': (1.6876670316602587, 1.2003564539769316),\n",
       " 'xG_for_leader_behind': (2.629294901206897, 3.466531985241454),\n",
       " 'xG_against_leader_draw': (0.8976960162946185, 0.9495080071902616),\n",
       " 'xG_against_leader_leading': (1.0621402622854392, 1.11432926554582),\n",
       " 'xG_against_leader_behind': (0.5636791333601532, 1.5650091310480427)}"
      ]
     },
     "execution_count": 23,
     "metadata": {},
     "output_type": "execute_result"
    }
   ],
   "source": [
    "xG_lead(women)"
   ]
  },
  {
   "cell_type": "code",
   "execution_count": 24,
   "metadata": {},
   "outputs": [],
   "source": [
    "# Creating a linear regression, showing the effect of leading time on xG diff performance:\n",
    "from sklearn.model_selection import train_test_split\n",
    "from sklearn.linear_model import LinearRegression\n",
    "\n",
    "def win_model(frame):\n",
    "    points = np.array(frame[frame.winner != 'draw'][['event_key', 'winner_lead', 'diff_goal_diff_xG_diff']])\n",
    "    \n",
    "    X = points[:,1]\n",
    "    y = points[:,2]\n",
    "    \n",
    "    X = X.reshape(-1, 1)\n",
    "        \n",
    "    X_train, X_test, y_train, y_test = train_test_split(X, y, test_size=0.2)\n",
    "    xg_reg = LinearRegression()\n",
    "    xg_reg.fit(X_train, y_train)\n",
    "    print(xg_reg.score(X_test, y_test))\n",
    "\n",
    "    print(xg_reg.score(X, y))\n",
    "    print(xg_reg.coef_[0])\n",
    "    print(xg_reg.intercept_)\n",
    "    # Since the R^2 score is about 0.09, 9 percent of the goal xG difference can be explained by the leading time,\n",
    "    # although there is a meaningful correlation between leading time and goal difference.\n",
    "\n",
    "    y_pred = xg_reg.predict(X)\n",
    "\n",
    "    plt.scatter(X, y)\n",
    "    plt.plot(X, y_pred, color = 'red')\n",
    "    plt.xlabel('minutes winner leading minus winner behind')\n",
    "    plt.ylabel('goal diff minus xG diff')\n",
    "    plt.show()"
   ]
  },
  {
   "cell_type": "code",
   "execution_count": 25,
   "metadata": {},
   "outputs": [
    {
     "name": "stdout",
     "output_type": "stream",
     "text": [
      "0.128766431505709\n",
      "0.09094105064627955\n",
      "0.012154147146062971\n",
      "0.36425033453472355\n"
     ]
    },
    {
     "data": {
      "image/png": "[encoded data removed]",
      "text/plain": [
       "<Figure size 432x288 with 1 Axes>"
      ]
     },
     "metadata": {
      "needs_background": "light"
     },
     "output_type": "display_data"
    }
   ],
   "source": [
    "win_model(xG_frame)"
   ]
  },
  {
   "cell_type": "code",
   "execution_count": 26,
   "metadata": {},
   "outputs": [
    {
     "name": "stdout",
     "output_type": "stream",
     "text": [
      "0.008697503240692517\n",
      "0.08456512731688381\n",
      "0.013341014651722976\n",
      "0.30801762447133485\n"
     ]
    },
    {
     "data": {
      "image/png": "[encoded data removed]",
      "text/plain": [
       "<Figure size 432x288 with 1 Axes>"
      ]
     },
     "metadata": {
      "needs_background": "light"
     },
     "output_type": "display_data"
    }
   ],
   "source": [
    "win_model(Barca)"
   ]
  },
  {
   "cell_type": "code",
   "execution_count": 27,
   "metadata": {},
   "outputs": [
    {
     "name": "stdout",
     "output_type": "stream",
     "text": [
      "0.18483520246537521\n",
      "0.10077431437978257\n",
      "0.010494480789674663\n",
      "0.48354419863041964\n"
     ]
    },
    {
     "data": {
      "image/png": "[encoded data removed]",
      "text/plain": [
       "<Figure size 432x288 with 1 Axes>"
      ]
     },
     "metadata": {
      "needs_background": "light"
     },
     "output_type": "display_data"
    }
   ],
   "source": [
    "win_model(women)"
   ]
  },
  {
   "cell_type": "code",
   "execution_count": 28,
   "metadata": {},
   "outputs": [
    {
     "name": "stdout",
     "output_type": "stream",
     "text": [
      "-1.7305605344913821 0.19401940619754177 -1.9245799406889244\n",
      "6.199578836226853\n"
     ]
    }
   ],
   "source": [
    "# Compares xG per minute while leading or behind with xG per minute while draw:\n",
    "winner_diff_leading_draw = 0\n",
    "loser_diff_behind_draw = 0\n",
    "diff_lead_draw = 0\n",
    "num_matches = 0\n",
    "list_winner_diff_leading_draw = []\n",
    "list_loser_diff_behind_draw = []\n",
    "list_diff_lead_draw = []\n",
    "\n",
    "for i in xG_frame.index: # draws skipped because they are hard to compare with other matches\n",
    "    if xG_frame.iloc[i].winner == xG_frame.iloc[i].home_team:\n",
    "        if is_float(xG_frame.iloc[i].xG_home_team_per_min_lead_home_team - xG_frame.iloc[i].xG_home_team_per_min_draw):\n",
    "            winner_diff_leading_draw += xG_frame.iloc[i].xG_home_team_per_min_lead_home_team - xG_frame.iloc[i].xG_home_team_per_min_draw\n",
    "            list_winner_diff_leading_draw.append(xG_frame.iloc[i].xG_home_team_per_min_lead_home_team - xG_frame.iloc[i].xG_home_team_per_min_draw)\n",
    "            loser_diff_behind_draw += xG_frame.iloc[i].xG_away_team_per_min_lead_home_team - xG_frame.iloc[i].xG_away_team_per_min_draw\n",
    "            diff_lead_draw += xG_frame.iloc[i].xG_diff_per_min_home_team_lead - xG_frame.iloc[i].xG_diff_per_min_draw\n",
    "            num_matches += 1\n",
    "    elif xG_frame.iloc[i].winner == xG_frame.iloc[i].away_team:\n",
    "        if is_float(xG_frame.iloc[i].xG_away_team_per_min_lead_away_team - xG_frame.iloc[i].xG_away_team_per_min_draw):\n",
    "            winner_diff_leading_draw += xG_frame.iloc[i].xG_away_team_per_min_lead_away_team - xG_frame.iloc[i].xG_away_team_per_min_draw\n",
    "            list_winner_diff_leading_draw.append(xG_frame.iloc[i].xG_away_team_per_min_lead_away_team - xG_frame.iloc[i].xG_away_team_per_min_draw)\n",
    "            loser_diff_behind_draw += xG_frame.iloc[i].xG_home_team_per_min_lead_away_team - xG_frame.iloc[i].xG_home_team_per_min_draw\n",
    "            diff_lead_draw += -(xG_frame.iloc[i].xG_diff_per_min_away_team_lead - xG_frame.iloc[i].xG_diff_per_min_draw)\n",
    "            num_matches += 1\n",
    "\n",
    "winner_diff_leading_draw /= num_matches\n",
    "loser_diff_behind_draw /= num_matches\n",
    "diff_lead_draw /= num_matches\n",
    "print(winner_diff_leading_draw, loser_diff_behind_draw, diff_lead_draw)\n",
    "print(np.std(list_winner_diff_leading_draw))\n",
    "\n",
    "# Unfortunately, the standard deviation of list_winner_diff_leading_draw is > 6, which renders the statistic way too unstable.\n",
    "# But the approach should work for a great dataset."
   ]
  }
 ],
 "metadata": {
  "kernelspec": {
   "display_name": "Python 3",
   "language": "python",
   "name": "python3"
  },
  "language_info": {
   "codemirror_mode": {
    "name": "ipython",
    "version": 3
   },
   "file_extension": ".py",
   "mimetype": "text/x-python",
   "name": "python",
   "nbconvert_exporter": "python",
   "pygments_lexer": "ipython3",
   "version": "3.7.7"
  }
 },
 "nbformat": 4,
 "nbformat_minor": 4
}
