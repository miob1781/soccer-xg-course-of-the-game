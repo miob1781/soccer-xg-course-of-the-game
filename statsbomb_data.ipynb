{
 "cells": [
  {
   "cell_type": "code",
   "execution_count": 47,
   "metadata": {},
   "outputs": [],
   "source": [
    "import pandas as pd\n",
    "import numpy as np"
   ]
  },
  {
   "cell_type": "code",
   "execution_count": 48,
   "metadata": {},
   "outputs": [],
   "source": [
    "# Gets a list of competitions (with seasons and leagues) that are freely available on statsbomb:\n",
    "competitions = pd.read_json('https://raw.githubusercontent.com/statsbomb/open-data/master/data/competitions.json')"
   ]
  },
  {
   "cell_type": "code",
   "execution_count": 49,
   "metadata": {},
   "outputs": [],
   "source": [
    "# Adds the paths where the data of the competitions are stored:\n",
    "path_list = []\n",
    "for i in competitions.index:\n",
    "    comp_id, season_id = competitions.iloc[i][['competition_id', 'season_id']]\n",
    "    path = f'https://raw.githubusercontent.com/statsbomb/open-data/master/data/matches/{comp_id}/{season_id}.json'\n",
    "    path_list.append(path)\n",
    "\n",
    "competitions['path'] = path_list"
   ]
  },
  {
   "cell_type": "code",
   "execution_count": 50,
   "metadata": {},
   "outputs": [],
   "source": [
    "# Gets the data of the competitions and combines them in a single dictionary:\n",
    "matches_dict = {}\n",
    "for i in competitions.index:\n",
    "    if 'World Cup' in competitions.iloc[i].competition_name:\n",
    "        continue\n",
    "    matches_dict[f'{competitions.iloc[i].competition_name} {competitions.iloc[i].season_name}'] = pd.read_json(competitions.iloc[i].path)"
   ]
  },
  {
   "cell_type": "code",
   "execution_count": 51,
   "metadata": {},
   "outputs": [],
   "source": [
    "# Loads the list of matches from the competitions:\n",
    "for comp in matches_dict.values():\n",
    "    comp['path'] = comp.match_id.apply(lambda x: f'https://raw.githubusercontent.com/statsbomb/open-data/master/data/events/{x}.json')"
   ]
  },
  {
   "cell_type": "code",
   "execution_count": 52,
   "metadata": {},
   "outputs": [],
   "source": [
    "# Function that gets the winner of a match:\n",
    "def get_winner(match):\n",
    "    if match['home_score'] > match['away_score']:\n",
    "        winner = match['home_team']\n",
    "    if match['home_score'] < match['away_score']:\n",
    "        winner = match['away_team']\n",
    "    if match['home_score'] == match['away_score']:\n",
    "        winner = 'draw'\n",
    "    return winner"
   ]
  },
  {
   "cell_type": "code",
   "execution_count": 53,
   "metadata": {},
   "outputs": [],
   "source": [
    "# Function that gets the team that has been leading before the shot:\n",
    "def leader_function(shots, home_team, away_team):\n",
    "    leader_list = []\n",
    "    goals_home_team = 0\n",
    "    goals_away_team = 0\n",
    "    i = 0\n",
    "    \n",
    "    for shot_id in shots.index:\n",
    "        while i < shot_id:\n",
    "            if shots.iloc[i].outcome == 'Goal' or shots.iloc[i].outcome == 'Own Goal':\n",
    "                if shots.iloc[i].team  == home_team:\n",
    "                    goals_home_team += 1\n",
    "                else:\n",
    "                    goals_away_team += 1\n",
    "            i += 1\n",
    "        if goals_home_team > goals_away_team:\n",
    "            leader = home_team\n",
    "        elif goals_away_team > goals_home_team:\n",
    "            leader = away_team\n",
    "        else:\n",
    "            leader = 'draw'\n",
    "        leader_list.append(leader)\n",
    "        \n",
    "    return leader_list"
   ]
  },
  {
   "cell_type": "code",
   "execution_count": 54,
   "metadata": {},
   "outputs": [],
   "source": [
    "# Function that gets a frame of all shots of a match:\n",
    "def get_shots(match):\n",
    "    home_team = match['home_team']\n",
    "    away_team = match['away_team']\n",
    "    events = pd.read_json(match['path'])\n",
    "    match_shots = events[events.shot.notnull()]\n",
    "    shot_list = []\n",
    "    \n",
    "    for key in events.shot.keys():\n",
    "        if events['type'][key]['name'] == 'Own Goal Against':\n",
    "            outcome = 'Own Goal'\n",
    "            minute = events['minute'][key]\n",
    "            half = events['period'][key]\n",
    "            xG = 'Own Goal'\n",
    "            team = events['possession_team'][key]['name']\n",
    "            shot_list.append([minute, half, outcome, xG, team])\n",
    "        elif key in match_shots.shot.keys():\n",
    "            outcome = match_shots['shot'][key]['outcome']['name']\n",
    "            minute = match_shots['minute'][key]\n",
    "            half = match_shots['period'][key]\n",
    "            xG = match_shots['shot'][key]['statsbomb_xg']\n",
    "            team = match_shots['possession_team'][key]['name']\n",
    "            shot_list.append([minute, half, outcome, xG, team])\n",
    "\n",
    "    shots = pd.DataFrame(shot_list, columns = ['minute', 'half', 'outcome', 'xG', 'team']).reset_index(drop=True)\n",
    "    shots['leader'] = leader_function(shots, home_team, away_team)\n",
    "    shots['length_half1'] = events[events.period == 1].minute.max()\n",
    "    shots['length_match'] = events.minute.max()\n",
    "    return shots"
   ]
  },
  {
   "cell_type": "code",
   "execution_count": 55,
   "metadata": {},
   "outputs": [],
   "source": [
    "# Gets a dictionary of all events of a match along with some other data:\n",
    "events_dict = {}\n",
    "for comp_key, comp in matches_dict.items():\n",
    "    for key in comp.home_team.keys():\n",
    "        match_key = f'''{comp.home_team[key]['home_team_name']} - {comp.away_team[key]['away_team_name']}, {comp_key}'''\n",
    "        events_dict[match_key] = {}\n",
    "        events_dict[match_key]['competition'] = comp.competition[key]['competition_name']\n",
    "        events_dict[match_key]['season'] = comp.season[key]['season_name']\n",
    "        events_dict[match_key]['match_date'] = comp.match_date[key]\n",
    "        events_dict[match_key]['home_team'] = comp.home_team[key]['home_team_name']\n",
    "        events_dict[match_key]['away_team'] = comp.away_team[key]['away_team_name']       \n",
    "        events_dict[match_key]['home_score'] = comp.home_score[key]\n",
    "        events_dict[match_key]['away_score'] = comp.away_score[key]\n",
    "        events_dict[match_key]['path'] = comp.path[key]\n",
    "        events_dict[match_key]['winner'] = get_winner(events_dict[match_key])\n",
    "        events_dict[match_key]['data'] = get_shots(events_dict[match_key])"
   ]
  },
  {
   "cell_type": "code",
   "execution_count": 56,
   "metadata": {},
   "outputs": [],
   "source": [
    "# Function that converts values of a dict to prepare them for conversion to a .json-file.\n",
    "import datetime\n",
    "\n",
    "def myconverter(dictionary):\n",
    "    for key, value in dictionary.items():\n",
    "    # This part is adapted from https://stackoverflow.com/questions/50916422/python-typeerror-object-of-type-int64-is-not-json-serializable/50916741\n",
    "        if isinstance(value, np.integer):\n",
    "            dictionary[key] = int(value)\n",
    "        elif isinstance(value, np.floating):\n",
    "            dictionary[key] = float(value)\n",
    "        elif isinstance(value, np.ndarray):\n",
    "            dictionary[key] = value.tolist()\n",
    "        elif isinstance(value, datetime.datetime):\n",
    "            dictionary[key] = value.__str__()\n",
    "        if type(value) == dict:\n",
    "            myconverter(value)\n",
    "    return dictionary"
   ]
  },
  {
   "cell_type": "code",
   "execution_count": 60,
   "metadata": {},
   "outputs": [],
   "source": [
    "# Saving the frame as a .json-file:\n",
    "import json\n",
    "\n",
    "if type(competitions) == pd.core.frame.DataFrame:\n",
    "    competitions = competitions.to_dict()\n",
    "\n",
    "for key, value in matches_dict.items():\n",
    "    if type(value) == pd.core.frame.DataFrame:\n",
    "        matches_dict[key] = value.to_dict()\n",
    "\n",
    "for value in events_dict.values():\n",
    "    for sub_key, sub_value in value.items():\n",
    "        if type(sub_value) == pd.core.frame.DataFrame:\n",
    "            value[sub_key] = sub_value.to_dict()\n",
    "      \n",
    "statsbomb_data = {'competitions': competitions, 'matches': matches_dict, 'events': events_dict}\n",
    "\n",
    "statsbomb_data = myconverter(statsbomb_data)\n",
    "\n",
    "with open('statsbomb_data.json', 'w') as file:\n",
    "    json.dump(statsbomb_data, file)"
   ]
  }
 ],
 "metadata": {
  "kernelspec": {
   "display_name": "Python 3",
   "language": "python",
   "name": "python3"
  },
  "language_info": {
   "codemirror_mode": {
    "name": "ipython",
    "version": 3
   },
   "file_extension": ".py",
   "mimetype": "text/x-python",
   "name": "python",
   "nbconvert_exporter": "python",
   "pygments_lexer": "ipython3",
   "version": "3.7.6"
  }
 },
 "nbformat": 4,
 "nbformat_minor": 4
}
